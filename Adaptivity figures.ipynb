{
 "cells": [
  {
   "cell_type": "code",
   "execution_count": null,
   "metadata": {},
   "outputs": [],
   "source": [
    "using Pkg;\n",
    "pkg\"registry add https://github.com/FrameFunVC/FrameFunRegistry\""
   ]
  },
  {
   "cell_type": "code",
   "execution_count": null,
   "metadata": {},
   "outputs": [],
   "source": [
    "using Pkg;Pkg.activate(pwd())\n",
    "Pkg.instantiate()\n",
    "# apath=normpath(joinpath(pwd(),\".\"));\n",
    "width = \".5\\\\textwidth\"\n",
    "height = \".25\\\\textwidth\""
   ]
  },
  {
   "cell_type": "markdown",
   "metadata": {},
   "source": [
    "# 1D example figure"
   ]
  },
  {
   "cell_type": "code",
   "execution_count": null,
   "metadata": {},
   "outputs": [],
   "source": [
    "using BasisFunctions, DomainSets, PGFPlotsX, FrameFun, LaTeXStrings, DocumentPGFPlots"
   ]
  },
  {
   "cell_type": "code",
   "execution_count": null,
   "metadata": {},
   "outputs": [],
   "source": [
    "N = 31\n",
    "f = identity\n",
    "P = ExtensionFramePlatform(platform(Fourier(10)→(-2.0..2.0)),-1.0..1.0)\n",
    "F = Expansion(basis(dictionary(P,N)),coefficients(Fun(f, P, N)))\n",
    "t = PeriodicEquispacedGrid(2000,-4,4)\n",
    "tt = PeriodicEquispacedGrid(1000,-2,2)\n",
    "P1Dexampleframe = @pgf Axis(\n",
    "    {width=width,height=height,ymin=-2.5,ymax=2.5},\n",
    "    PlotInc({mark=\"none\", style=\"dashed,blue\"},Table([t, circshift(repeat(real.((F)(tt)),2),500)])),\n",
    "    PlotInc({mark=\"none\",style=\"blue,thick\"},Table([tt, real.((F)(tt))])),\n",
    "    PlotInc({mark=\"none\",style=\"red, thick\"},Table([t, t]))\n",
    "    )"
   ]
  },
  {
   "cell_type": "code",
   "execution_count": null,
   "metadata": {},
   "outputs": [],
   "source": [
    "t = PeriodicEquispacedGrid(2000,-4,4)\n",
    "tt = PeriodicEquispacedGrid(500,-1,1)\n",
    "P = platform(Fourier(10,-1,1))\n",
    "F = Fun(f, P, N)\n",
    "P1Dexamplebasis = @pgf Axis(\n",
    "    {width=width,height=height,ymin=-2.5,ymax=2.5},\n",
    "    PlotInc({mark=\"none\", style=\"dashed,blue\"},Table([t, circshift(repeat(real.((F)(tt)),4),250)])),\n",
    "    PlotInc({mark=\"none\",style=\"blue,thick\"},Table([tt, real.((F)(tt))])),\n",
    "    PlotInc({mark=\"none\",style=\"red, thick\"},Table([t, t]))\n",
    "    )"
   ]
  },
  {
   "cell_type": "code",
   "execution_count": null,
   "metadata": {},
   "outputs": [],
   "source": [
    "# DocumentPGFPlots.savefigs(joinpath(apath,\"img\",\"1Dexample\"),P1Dexampleframe)\n",
    "# DocumentPGFPlots.savefigs(joinpath(apath,\"img\",\"1Dexample_Gibbs\"),P1Dexamplebasis)"
   ]
  },
  {
   "cell_type": "markdown",
   "metadata": {},
   "source": [
    "# Unexpected problem figure"
   ]
  },
  {
   "cell_type": "code",
   "execution_count": null,
   "metadata": {},
   "outputs": [],
   "source": [
    "using BasisFunctions, DomainSets, PGFPlotsX, FrameFun, LaTeXStrings, DocumentPGFPlots"
   ]
  },
  {
   "cell_type": "code",
   "execution_count": null,
   "metadata": {},
   "outputs": [],
   "source": [
    "f = exp\n",
    "N1 = 20\n",
    "N2 = 40\n",
    "Pbasis = platform(ChebyshevT(1)→(-1.0..1.0)) \n",
    "P = ExtensionFramePlatform(platform(ChebyshevT(1)),-1.0..1.0)\n",
    "\n",
    "Fbasis = Fun(f, Pbasis, N2)\n",
    "Fbasissmall = Fun(f, Pbasis, N1)\n",
    "\n",
    "Fframe = Fun(f, P, N2)\n",
    "Fframesmall = Fun(f, P, N1)"
   ]
  },
  {
   "cell_type": "code",
   "execution_count": null,
   "metadata": {},
   "outputs": [],
   "source": [
    "Pbasis = @pgf Axis({width=width,height=height,ymode=\"log\",ymin=1e-18,ymax=4,ylabel=L\"$|c_k|$\",xlabel=L\"$k$\"},\n",
    "    PlotInc({},Table([1:N2,abs.(coefficients(Fbasis))])),\n",
    "    PlotInc({},Table([1:N1, abs.(coefficients(Fbasissmall))]))\n",
    ")"
   ]
  },
  {
   "cell_type": "code",
   "execution_count": null,
   "metadata": {},
   "outputs": [],
   "source": [
    "Pframe = @pgf Axis({width=width,height=height,ymode=\"log\",ymin=1e-18,ymax=4,ylabel=L\"$|c_k|$\",xlabel=L\"$k$\"},\n",
    "PlotInc({},Table([1:N2,abs.(coefficients(Fframe))])),\n",
    "PlotInc({},Table([1:N1,abs.(coefficients(Fframesmall))]))\n",
    "    )"
   ]
  },
  {
   "cell_type": "code",
   "execution_count": null,
   "metadata": {},
   "outputs": [],
   "source": [
    "# DocumentPGFPlots.savefigs(joinpath(apath,\"img\",\"coefsinbasis\"),Pbasis)\n",
    "# DocumentPGFPlots.savefigs(joinpath(apath,\"img\",\"coefsinframe\"),Pframe)"
   ]
  },
  {
   "cell_type": "code",
   "execution_count": null,
   "metadata": {},
   "outputs": [],
   "source": [
    "f = exp\n",
    "err1 = zeros(N2)\n",
    "err2 = similar(err1)\n",
    "for (i,N) in enumerate(1:N2)\n",
    "    Pbasis = platform(ChebyshevT(1)→(-1.0..1.0)) \n",
    "    P = ExtensionFramePlatform(platform(ChebyshevT(1)→(-2.0..2.0)), -1.0..1.0)\n",
    "\n",
    "    Fbasis = Fun(f, Pbasis, N;threshold=1e-14,normalizedsampling=true)\n",
    "    Fframe = Fun(f, P, N;threshold=1e-14,normalizedsampling=true)\n",
    "    err1[i] = maxerror(f, Fbasis)\n",
    "    err2[i] = maxerror(f, Fframe)\n",
    "end\n"
   ]
  },
  {
   "cell_type": "code",
   "execution_count": null,
   "metadata": {},
   "outputs": [],
   "source": [
    "Pbasis = @pgf Axis({width=width,height=height,ymode=\"log\",ymin=1e-18,ymax=4,ylabel=L\"$\\|f-f_N\\|_{\\infty}$\",xlabel=L\"$N$\"},\n",
    "PlotInc({},Table([1:N2,err1]))\n",
    "    )"
   ]
  },
  {
   "cell_type": "code",
   "execution_count": null,
   "metadata": {},
   "outputs": [],
   "source": [
    "Pframe = @pgf Axis({width=width,height=height,ymode=\"log\",ymin=1e-18,ymax=4,ylabel=L\"$\\|f-f_N\\|_{\\infty}$\",xlabel=L\"$N$\"},\n",
    "PlotInc({},Table([1:N2,err2]))\n",
    "    )"
   ]
  },
  {
   "cell_type": "code",
   "execution_count": null,
   "metadata": {},
   "outputs": [],
   "source": [
    "# DocumentPGFPlots.savefigs(joinpath(apath,\"img\",\"errinbasis\"),Pbasis)\n",
    "# DocumentPGFPlots.savefigs(joinpath(apath,\"img\",\"errinframe\"),Pframe)"
   ]
  },
  {
   "cell_type": "markdown",
   "metadata": {},
   "source": [
    "# Smoothing figure"
   ]
  },
  {
   "cell_type": "code",
   "execution_count": null,
   "metadata": {},
   "outputs": [],
   "source": [
    "using BasisFunctions, DomainSets, PGFPlotsX, FrameFun, LaTeXStrings, DocumentPGFPlots"
   ]
  },
  {
   "cell_type": "code",
   "execution_count": null,
   "metadata": {},
   "outputs": [],
   "source": [
    "width = \".5\\\\textwidth\"\n",
    "height = \".3\\\\textwidth\""
   ]
  },
  {
   "cell_type": "code",
   "execution_count": null,
   "metadata": {},
   "outputs": [],
   "source": [
    "P = ExtensionFramePlatform(platform(ChebyshevT(1)→(-2.0..2.)), -1.0..1.0)\n",
    "f = exp\n",
    "\n",
    "N  = 61\n",
    "fscale = (d,i) -> 10.0^-4+abs(i)+abs(i)^2+abs(i)^3\n",
    "Frough_coef = coefficients(Fun(f, P, N;threshold=1e-14,normalizedsampling=true,solverstyle=AZStyle()))\n",
    "Fsmooth_coef = coefficients(Fun(f, P, N;threshold=1e-14,normalizedsampling=true,\n",
    "        solverstyle=AZSmoothStyle(),scaling=fscale))\n",
    "Fwa_coef = Fun(f,P,threshold=1e-14,normalizedsampling=true,δ=0,p0=4,\n",
    "    adaptivestyle=:greedy,maxlength=N-1,weightedAZ=true,maxiterations=N)\n",
    "Frough = Expansion(basis(dictionary(P,N)), Frough_coef)\n",
    "Fsmooth = Expansion(basis(dictionary(P,N)), Fsmooth_coef)\n",
    "Fwa = Expansion(basis(dictionary(P,N)), Fwa_coef)\n",
    "\n",
    "N2 = 101\n",
    "Frough_coef2 = coefficients(Fun(f, P, N2;threshold=1e-14,normalizedsampling=true,solverstyle=AZStyle()))\n",
    "Fsmooth_coef2 = coefficients(Fun(f, P, N2;threshold=1e-14,normalizedsampling=true,\n",
    "        solverstyle=AZSmoothStyle(),scaling=fscale))\n",
    "Fwa_coef2 = Fun(f,P,threshold=1e-14,normalizedsampling=true,δ=0,p0=4,\n",
    "    adaptivestyle=:greedy,maxlength=N2-1,weightedAZ=true,maxiterations=N2)\n",
    "Frough2 = Expansion(basis(dictionary(P,N2)), Frough_coef2)\n",
    "Fsmooth2 = Expansion(basis(dictionary(P,N2)), Fsmooth_coef2)\n",
    "Fwa2 = Expansion(basis(dictionary(P,N2)), Fwa_coef2)"
   ]
  },
  {
   "cell_type": "code",
   "execution_count": null,
   "metadata": {},
   "outputs": [],
   "source": [
    "s1 = @pgf {style=\"red\",mark=\"*\",mark_options=\"red\"}\n",
    "s2 = @pgf {style=\"blue\",mark=\"square*\",mark_options=\"blue\"}\n",
    "s3 = @pgf {style=\"green\",mark=\"diamond*\",mark_options=\"green\"}\n",
    "s4 = @pgf {style=\"brown\",mark=\"diamond\"}\n",
    "\n",
    "s1d = @pgf {style=\"red,dashed\",mark=\"o\"}\n",
    "s2d = @pgf {style=\"blue,dashed\",mark=\"square\"}\n",
    "s3d = @pgf {style=\"green,dashed\",mark=\"diamond\"}\n",
    "s4d = @pgf {style=\"brown,dashed\",mark=\"diamond\"}"
   ]
  },
  {
   "cell_type": "code",
   "execution_count": null,
   "metadata": {},
   "outputs": [],
   "source": [
    "t = LinRange(-2,2,1000)\n",
    "P1 = @pgf Axis(\n",
    "    {xlabel = L\"$t$\",\n",
    "    legend_cell_align=\"left\",\n",
    "    width=width,height=height,ymin=-5,ymax=5,legend_pos=\"south west\"},\n",
    "    PlotInc({mark=\"none\",style=\"very thick\",color=\"red\"},Table([t, real((Frough).(t))])),\n",
    "    PlotInc({mark=\"none\",style=\"very thick\",color=\"blue\"},Table([t, real.((Fsmooth).(t))])),\n",
    "    PlotInc({mark=\"none\",style=\"very thick\",color=\"green\"},Table([t, real.((Fwa).(t))])),\n",
    "    )"
   ]
  },
  {
   "cell_type": "code",
   "execution_count": null,
   "metadata": {},
   "outputs": [],
   "source": [
    "P2 = @pgf Axis(\n",
    "    {xlabel=L\"$t$\",\n",
    "    width=width,height=height,ymode=\"log\"},\n",
    "    PlotInc({mark=\"none\",style=\"very thick\",color=\"red\"},Table([t, eps() .+ abs.(Frough.(t)-f.(t))])),\n",
    "    PlotInc({mark=\"none\",style=\"very thick\",color=\"blue\"},Table([t, eps() .+ abs.(Fsmooth.(t)-f.(t))])),\n",
    "    PlotInc({mark=\"none\",style=\"very thick\",color=\"green\"},Table([t, eps() .+ abs.(Fwa.(t)-f.(t))])),\n",
    ")"
   ]
  },
  {
   "cell_type": "code",
   "execution_count": null,
   "metadata": {},
   "outputs": [],
   "source": [
    "r =sortperm(map(x->convert(Int,x),ordering(dictionary(P,N))));\n",
    "r2 =sortperm(map(x->convert(Int,x),ordering(dictionary(P,N2))));"
   ]
  },
  {
   "cell_type": "code",
   "execution_count": null,
   "metadata": {},
   "outputs": [],
   "source": [
    "P3 = @pgf Axis(\n",
    "    {xlabel=L\"$k$\",\n",
    "    width=width,height=height,ymode=\"log\",\n",
    "        legend_pos=\"south west\",legend_style={legend_columns=-1,fill_opacity=0.6,\n",
    "    text_opacity=1},legend_cell_align={left}},\n",
    "    PlotInc(s1, Table([1:N, \n",
    "                abs.(Frough_coef)])),\n",
    "    PlotInc(s2, Table([1:N, \n",
    "                abs.(Fsmooth_coef)])),\n",
    "    PlotInc(s3, Table([1:N, \n",
    "                abs.(Fwa_coef)])),\n",
    "    \n",
    "    PlotInc(s1d, Table([1:N2, \n",
    "                abs.(Frough_coef2)])),\n",
    "    PlotInc(s2d, Table([1:N2, \n",
    "                abs.(Fsmooth_coef2)])),\n",
    "    PlotInc(s3d, Table([1:N2, \n",
    "                abs.(Fwa_coef2)])),\n",
    ")"
   ]
  },
  {
   "cell_type": "code",
   "execution_count": null,
   "metadata": {},
   "outputs": [],
   "source": [
    "# DocumentPGFPlots.savefigs(joinpath(apath,\"img\",\"approximation\"),P1)\n",
    "# DocumentPGFPlots.savefigs(joinpath(apath,\"img\",\"error\"),P2)\n",
    "# DocumentPGFPlots.savefigs(joinpath(apath,\"img\",\"coefficients\"),P3)"
   ]
  },
  {
   "cell_type": "code",
   "execution_count": null,
   "metadata": {},
   "outputs": [],
   "source": []
  },
  {
   "cell_type": "markdown",
   "metadata": {},
   "source": [
    "# Non decrease of L2 figure"
   ]
  },
  {
   "cell_type": "code",
   "execution_count": null,
   "metadata": {},
   "outputs": [],
   "source": [
    "using BasisFunctions, DomainSets, PGFPlotsX, FrameFun, LaTeXStrings, DocumentPGFPlots\n",
    "width = \".5\\\\textwidth\"\n",
    "height = \".3\\\\textwidth\""
   ]
  },
  {
   "cell_type": "markdown",
   "metadata": {},
   "source": [
    "### Constant function"
   ]
  },
  {
   "cell_type": "code",
   "execution_count": null,
   "metadata": {},
   "outputs": [],
   "source": [
    "f = x->1.\n",
    "m_mon = 30\n",
    "err_mon = zeros(m_mon)\n",
    "csize_mon = zeros(m_mon)\n",
    "tol = 1e-14; cutoff = 1e-5\n",
    "for N in 1:m_mon\n",
    "    P = ExtensionFramePlatform(platform(Fourier(1)→(-2.0..2.0)),-1.0..1.0)\n",
    "    A = Fun(f, P, N;samplingstyle=GramStyle(),REG=regularized_SVD_solver, threshold=cutoff, \n",
    "        discrete=false, rtol=tol, atol=tol)\n",
    "    err_mon[N] = L2error(f,A,  atol=tol, rtol=tol)\n",
    "    csize_mon[N] = norm(coefficients(A))\n",
    "end"
   ]
  },
  {
   "cell_type": "code",
   "execution_count": null,
   "metadata": {},
   "outputs": [],
   "source": [
    "upper_mon = [NaN, (err_mon[2:end].+sqrt(cutoff)*csize_mon[2:end])...];"
   ]
  },
  {
   "cell_type": "code",
   "execution_count": null,
   "metadata": {},
   "outputs": [],
   "source": [
    "Pnonmonotone = @pgf Axis(\n",
    "    {width=width,height=height,ymode=\"log\",xlabel=L\"$N$\", \n",
    "    cycle_list_name=\"mark list*\",\n",
    "    ymin=1e-5},\n",
    "    PlotInc({mark_size=\"1pt\"},Table([1:m_mon,upper_mon])),\n",
    "    PlotInc({mark_size=\"1pt\"},Table([1:m_mon,err_mon])),    \n",
    ")"
   ]
  },
  {
   "cell_type": "code",
   "execution_count": null,
   "metadata": {},
   "outputs": [],
   "source": [
    "# DocumentPGFPlots.savefigs(joinpath(apath,\"img\",\"notmonotone\"),Pnonmonotone)"
   ]
  },
  {
   "cell_type": "code",
   "execution_count": null,
   "metadata": {},
   "outputs": [],
   "source": [
    "f = x->exp(cos(5x))\n",
    "m = 30\n",
    "err = zeros(m)\n",
    "csize = zeros(m)\n",
    "tol = 1e-14; cutoff = 1e-5\n",
    "for N in 1:m\n",
    "    P = ExtensionFramePlatform(platform(Fourier(1)→(-2.0..2.0)),-1.0..1.0)\n",
    "    A = Fun(f, P, N;samplingstyle=GramStyle(),REG=regularized_SVD_solver, \n",
    "        threshold=cutoff, discrete=false, rtol=tol, atol=tol)\n",
    "    err[N] = L2error(f,A,  atol=tol, rtol=tol)\n",
    "    csize[N] = norm(coefficients(A))\n",
    "end"
   ]
  },
  {
   "cell_type": "code",
   "execution_count": null,
   "metadata": {},
   "outputs": [],
   "source": [
    "upper = [NaN, (err[2:end].+sqrt(cutoff)*csize[2:end])...];"
   ]
  },
  {
   "cell_type": "code",
   "execution_count": null,
   "metadata": {},
   "outputs": [],
   "source": [
    "P = @pgf Axis(\n",
    "    {width=width,height=height,ymode=\"log\",xlabel=L\"$N$\", \n",
    "    cycle_list_name=\"mark list*\",\n",
    "    ymin=1e-5},\n",
    "    PlotInc({mark_size=\"1pt\"},Table([1:m,upper])),\n",
    "    PlotInc({mark_size=\"1pt\"},Table([1:m,err])),    \n",
    ")"
   ]
  },
  {
   "cell_type": "code",
   "execution_count": null,
   "metadata": {},
   "outputs": [],
   "source": [
    "# DocumentPGFPlots.savefigs(joinpath(apath,\"img\",\"decreaseofL2norm\"),P)"
   ]
  },
  {
   "cell_type": "code",
   "execution_count": null,
   "metadata": {},
   "outputs": [],
   "source": [
    "f = x->1.\n",
    "m_mon = 40\n",
    "err_mon = zeros(m_mon)\n",
    "csize_mon = zeros(m_mon)\n",
    "tol = 1e-14; cutoff = 1e-5\n",
    "for N in 1:m_mon\n",
    "    P = ExtensionFramePlatform(platform(Fourier(1)→(-2.0..2.0)),-1.0..1.0)\n",
    "    A = Fun(f, P, N;REG=regularized_SVD_solver, threshold=cutoff)\n",
    "    err_mon[N] = L2error(f,A,  atol=tol, rtol=tol)\n",
    "    csize_mon[N] = norm(coefficients(A))\n",
    "end"
   ]
  },
  {
   "cell_type": "code",
   "execution_count": null,
   "metadata": {},
   "outputs": [],
   "source": [
    "upper_mon =  [NaN, (err_mon[2:end].+(cutoff)*csize_mon[2:end])...];"
   ]
  },
  {
   "cell_type": "code",
   "execution_count": null,
   "metadata": {},
   "outputs": [],
   "source": [
    "Pnonmonotone = @pgf Axis(\n",
    "    {width=width,height=height,ymode=\"log\",xlabel=L\"$N$\", \n",
    "    cycle_list_name=\"mark list*\",\n",
    "    ymax=1,ymin=1e-12},\n",
    "    PlotInc({mark_size=\"1pt\"},Table([1:m_mon,upper_mon])),\n",
    "    PlotInc({mark_size=\"1pt\"},Table([1:m_mon,err_mon])),    \n",
    ")"
   ]
  },
  {
   "cell_type": "code",
   "execution_count": null,
   "metadata": {},
   "outputs": [],
   "source": [
    "# DocumentPGFPlots.savefigs(joinpath(apath,\"img\",\"notmonotone2\"),Pnonmonotone)"
   ]
  },
  {
   "cell_type": "code",
   "execution_count": null,
   "metadata": {},
   "outputs": [],
   "source": [
    "f = x->exp(cos(5x))\n",
    "m = 40\n",
    "err = zeros(m)\n",
    "csize = zeros(m)\n",
    "tol = 1e-14; cutoff = 1e-5\n",
    "for N in 1:m\n",
    "    P = ExtensionFramePlatform(platform(Fourier(1)→(-2.0..2.0)),-1.0..1.0)\n",
    "    A = Fun(f, P, N;REG=regularized_SVD_solver, threshold=cutoff)\n",
    "    err[N] = L2error(f,A,  atol=tol, rtol=tol)\n",
    "    csize[N] = norm(coefficients(A))\n",
    "end"
   ]
  },
  {
   "cell_type": "code",
   "execution_count": null,
   "metadata": {},
   "outputs": [],
   "source": [
    "upper = [NaN, (err[2:end].+(cutoff)*csize[2:end])...];"
   ]
  },
  {
   "cell_type": "code",
   "execution_count": null,
   "metadata": {},
   "outputs": [],
   "source": [
    "P = @pgf Axis(\n",
    "    {width=width,height=height,ymode=\"log\",xlabel=L\"$N$\", \n",
    "    cycle_list_name=\"mark list*\",\n",
    "    ymin=1e-12},\n",
    "    PlotInc({mark_size=\"1pt\"},Table([1:m,upper])),\n",
    "    PlotInc({mark_size=\"1pt\"},Table([1:m,err])),    \n",
    ")"
   ]
  },
  {
   "cell_type": "code",
   "execution_count": null,
   "metadata": {},
   "outputs": [],
   "source": [
    "# DocumentPGFPlots.savefigs(joinpath(apath,\"img\",\"decreaseofL2norm2\"),P)"
   ]
  },
  {
   "cell_type": "markdown",
   "metadata": {},
   "source": [
    "# Adaptive vs optimal"
   ]
  },
  {
   "cell_type": "markdown",
   "metadata": {},
   "source": [
    "## Adaptive vs optimal:  1-D FE"
   ]
  },
  {
   "cell_type": "code",
   "execution_count": null,
   "metadata": {},
   "outputs": [],
   "source": [
    "using FrameFun, DomainSets, QuadGK, LaTeXStrings,PGFPlotsX, Statistics, QuadGK, ProgressBars\n",
    "width = \".5\\\\textwidth\"\n",
    "height = \".3\\\\textwidth\"\n",
    "P = ExtensionFramePlatform(platform(Fourier(1)→(-2.0..2.0)),-1.0..1.0)\n",
    "function getmedianindex(N)\n",
    "    mindex = Array{Int}(undef,size(N)[1:end-1])\n",
    "    for i in CartesianIndices(size(N)[1:end-1])\n",
    "        mindex[i] = findfirst(median(N[i.I...,:]) .==N[i.I...,:])\n",
    "    end\n",
    "    mindex\n",
    "end\n",
    "function getmedian(N,mindex)\n",
    "    NN = Array{eltype(N)}(undef,size(mindex))\n",
    "    for i in CartesianIndices(size(NN))\n",
    "        NN[i] = N[i.I...,mindex[i]]\n",
    "    end\n",
    "    NN\n",
    "end"
   ]
  },
  {
   "cell_type": "code",
   "execution_count": null,
   "metadata": {},
   "outputs": [],
   "source": [
    "ps = LinRange(10,500,20)\n",
    "fs = [x->cos(p*x) for p in ps]\n",
    "noexp = 7\n",
    "Nmax = 2maximum(ps)\n",
    "\n",
    "N1sfull = zeros(Int, length(ps), noexp)\n",
    "totaltimefull = zeros(Float64, length(ps), noexp)\n",
    "N2sfull = copy(N1sfull)\n",
    "onetimefull = copy(totaltimefull)\n",
    "ix = 1:length(ps)\n",
    "\n",
    "for i in ProgressBar(ix)\n",
    "    for n in 1:noexp\n",
    "        f = fs[i]\n",
    "        _,t1,_ = @timed( F1 = Fun(f, P; numrandompts = 3, adaptivestyle = OptimalStyle(), \n",
    "                criterion = FNAStyle(),δ=1e-10,threshold=1e-12,maxlength = Nmax,maxiterations = 10000))\n",
    "        totaltimefull[i,n] = t1\n",
    "        N1sfull[i,n] = length(coefficients(F1))\n",
    "        _,t2,_ = @timed(Fun(f, P,length(coefficients(F1)),threshold=1e-12))\n",
    "        onetimefull[i,n] = t2\n",
    "    end\n",
    "end"
   ]
  },
  {
   "cell_type": "code",
   "execution_count": null,
   "metadata": {},
   "outputs": [],
   "source": [
    "mindex = getmedianindex(N1sfull)\n",
    "N1s = getmedian(N1sfull,mindex)\n",
    "N2s = getmedian(N2sfull,mindex)\n",
    "totaltime = getmedian(totaltimefull,mindex)\n",
    "onetime = getmedian(onetimefull,mindex);"
   ]
  },
  {
   "cell_type": "code",
   "execution_count": null,
   "metadata": {},
   "outputs": [],
   "source": [
    "P1 = @pgf Axis({xlabel=L\"p\",width=width,height=height,cycle_list_name=\"mark list*\",},\n",
    "    Plot(Table([ps[2:end],totaltime[:,1,1][2:end]./onetime[:,1,1][2:end]]))\n",
    "    )"
   ]
  },
  {
   "cell_type": "code",
   "execution_count": null,
   "metadata": {},
   "outputs": [],
   "source": [
    "for i in ProgressBar(ix)\n",
    "    for n in 1:noexp\n",
    "        f = fs[i]\n",
    "        F2 = Fun(f, P; adaptivestyle = GreedyStyle(), numrandompts = 3,\n",
    "            p0=max(N1s[i]-10,4), criterion = FNAStyle(),maxlength = Nmax,maxiterations = 10000)\n",
    "        N2sfull[i,n] = length(coefficients(F2))\n",
    "        @assert N2sfull[i,n] > max(N1s[i]-10,4)\n",
    "    end\n",
    "end\n",
    "N2s = getmedian(N2sfull,mindex);"
   ]
  },
  {
   "cell_type": "code",
   "execution_count": null,
   "metadata": {},
   "outputs": [],
   "source": [
    "P2 = @pgf Axis({cycle_list_name=\"mark list*\",xlabel=L\"p\",width=width,height=height,ylabel=L\"\\Delta N\"},\n",
    "    PlotInc(Table([ps,N1s.-N2s])),\n",
    ")"
   ]
  },
  {
   "cell_type": "code",
   "execution_count": null,
   "metadata": {},
   "outputs": [],
   "source": [
    "# using DocumentPGFPlots\n",
    "# DocumentPGFPlots.savefigs(joinpath(apath,\"img\",\"adaptiveVsOptimal\"),P1)\n",
    "# DocumentPGFPlots.savefigs(joinpath(apath,\"img\",\"adaptiveOptimalN\"),P2)"
   ]
  },
  {
   "cell_type": "markdown",
   "metadata": {},
   "source": [
    "## Adaptive vs optimal:  2-D Weighted FE"
   ]
  },
  {
   "cell_type": "code",
   "execution_count": null,
   "metadata": {},
   "outputs": [],
   "source": [
    "using FrameFun, DomainSets, LaTeXStrings,PGFPlotsX, Statistics\n",
    "p = IncrementalCartesianParameterPath{2}()\n",
    "P = ExtensionFramePlatform(WeightedSumPlatform(platform((ChebyshevT(10)→(-1.0..1.0))^2), (x,y)->1.,\n",
    "            (x,y)->sqrt(x^2+y^2)),.9*UnitDisk())\n",
    "path = HierarchyPath(p,ProductPath(p,p))\n",
    "paramP = parametrizedplatform(P, path)\n",
    "function getmedianindex(N)\n",
    "    mindex = Array{Int}(undef,size(N)[1:end-1])\n",
    "    for i in CartesianIndices(size(N)[1:end-1])\n",
    "        mindex[i] = findfirst(median(N[i.I...,:]) .==N[i.I...,:])\n",
    "    end\n",
    "    mindex\n",
    "end\n",
    "function getmedian(N,mindex)\n",
    "    NN = Array{eltype(N)}(undef,size(mindex))\n",
    "    for i in CartesianIndices(size(NN))\n",
    "        NN[i] = N[i.I...,mindex[i]]\n",
    "    end\n",
    "    NN\n",
    "end"
   ]
  },
  {
   "cell_type": "code",
   "execution_count": null,
   "metadata": {},
   "outputs": [],
   "source": [
    "ps = LinRange(0,3,10)\n",
    "Nmax = 3000\n",
    "fs = [(x,y) -> (cos(p*pi*(x+y)) + sqrt(x^2+y^2)*sin(1+p*pi*(x+y)))::Float64 for p in ps]\n",
    "f = fs[5]"
   ]
  },
  {
   "cell_type": "code",
   "execution_count": null,
   "metadata": {},
   "outputs": [],
   "source": [
    "ps = LinRange(0,3,10)\n",
    "noexp = 1\n",
    "Nmax = 3000\n",
    "fs = [(x,y) -> cos(p*pi*(x+y)) + sqrt(x^2+y^2)*sin(1+p*pi*(x+y)) for p in ps]\n",
    "N1sfull = zeros(Int, length(ps), noexp)\n",
    "totaltimefull = zeros(Float64, length(ps), noexp)\n",
    "onetimefull = copy(totaltimefull)\n",
    "\n",
    "for (i,p) in ProgressBar(enumerate(ps))\n",
    "    local f = fs[i]\n",
    "    for n in 1:noexp\n",
    "        _,t1,_ = @timed( F1 = Fun(f, paramP; numrandompts = 3,adaptivestyle = OptimalStyle(), \n",
    "                criterion = FNAStyle(),δ=1e-6, threshold=1e-8, maxlength = Nmax,maxiterations = 10000))\n",
    "        totaltimefull[i,n] = t1\n",
    "        N1sfull[i,n] = length(coefficients(F1))\n",
    "        _,t2,_ = @timed(F=Fun(f, P,tuple(dimensions(dictionary(F1))...), threshold=1e-8, ))\n",
    "        onetimefull[i,n] = t2\n",
    "    end\n",
    "end"
   ]
  },
  {
   "cell_type": "code",
   "execution_count": null,
   "metadata": {},
   "outputs": [],
   "source": [
    "mindex = getmedianindex(N1sfull)\n",
    "N1s = getmedian(N1sfull,mindex)\n",
    "totaltime = getmedian(totaltimefull,mindex)\n",
    "onetime = getmedian(onetimefull,mindex);"
   ]
  },
  {
   "cell_type": "code",
   "execution_count": null,
   "metadata": {},
   "outputs": [],
   "source": [
    "P1 = @pgf GroupPlot({group_style = {group_size=\"2 by 1\",},cycle_list_name=\"mark list*\"},\n",
    "    {width=width,height=height,xlabel=L\"p\",ylabel=L\"N\",ymin=0},\n",
    "    Plot(Table([ps,N1s])),\n",
    "    {legend_cell_align=\"left\",width=width,height=height,ymin=0,ymax=20,xlabel=L\"p\"},\n",
    "    Plot(Table([ps[2:end],totaltime[2:end]./onetime[2:end]])),\n",
    ")"
   ]
  },
  {
   "cell_type": "code",
   "execution_count": null,
   "metadata": {},
   "outputs": [],
   "source": [
    "# using DocumentPGFPlots\n",
    "# DocumentPGFPlots.savefigs(joinpath(apath,\"img\",\"adaptiveVsOptimal2dwFE\"),P1)"
   ]
  },
  {
   "cell_type": "code",
   "execution_count": null,
   "metadata": {},
   "outputs": [],
   "source": [
    "f = fs[end]"
   ]
  },
  {
   "cell_type": "code",
   "execution_count": null,
   "metadata": {},
   "outputs": [],
   "source": [
    "F = Fun(f, paramP; numrandompts = 3,adaptivestyle = OptimalStyle(), \n",
    "    criterion = FNAStyle(),δ=1e-6, threshold=1e-8,maxlength = Nmax,maxiterations = 10000,verbose=false)"
   ]
  },
  {
   "cell_type": "code",
   "execution_count": null,
   "metadata": {},
   "outputs": [],
   "source": [
    "using Plots\n",
    "x = EquispacedGrid(100,-1,1)\n",
    "Plots.plot(F;c=:RdBu,size=(2*300,2*140),layout=2)\n",
    "wcP = Plots.heatmap!(log10.(eps().+abs.(F(x^2)-[f(xi, yi) for xi in x, yi in x]));subplot=2,aspect_ratio=1,ticks=false)"
   ]
  },
  {
   "cell_type": "code",
   "execution_count": null,
   "metadata": {},
   "outputs": [],
   "source": [
    "# savefig(wcP, joinpath(apath,\"img\",\"weightedcircle\"))"
   ]
  },
  {
   "cell_type": "code",
   "execution_count": null,
   "metadata": {},
   "outputs": [],
   "source": []
  },
  {
   "cell_type": "code",
   "execution_count": null,
   "metadata": {},
   "outputs": [],
   "source": []
  },
  {
   "cell_type": "markdown",
   "metadata": {},
   "source": [
    "# Coefficient norm"
   ]
  },
  {
   "cell_type": "code",
   "execution_count": null,
   "metadata": {},
   "outputs": [],
   "source": [
    "using BasisFunctions, FrameFun, DomainSets, PGFPlotsX, Plots, LaTeXStrings, DocumentPGFPlots"
   ]
  },
  {
   "cell_type": "code",
   "execution_count": null,
   "metadata": {},
   "outputs": [],
   "source": [
    "width = \".5\\\\textwidth\"\n",
    "height = \".3\\\\textwidth\""
   ]
  },
  {
   "cell_type": "code",
   "execution_count": null,
   "metadata": {},
   "outputs": [],
   "source": [
    "ymax = 1e6; ymin = 1e-15\n",
    "epss = exp10.(LinRange(-12,-3,4))\n",
    "T = 2; sampling_factor=2; \n",
    "t = 1;"
   ]
  },
  {
   "cell_type": "markdown",
   "metadata": {},
   "source": [
    "# exp(cos(8pix))"
   ]
  },
  {
   "cell_type": "code",
   "execution_count": null,
   "metadata": {},
   "outputs": [],
   "source": [
    "f_1 = x->exp(cos(8pi*x))\n",
    "# f_2 = x->1/(x-1.01)"
   ]
  },
  {
   "cell_type": "code",
   "execution_count": null,
   "metadata": {},
   "outputs": [],
   "source": [
    "ns_1 = 2collect(1:10:200) .+ 1\n",
    "csize_1 = zeros(Float64,length(ns_1),length(epss))\n",
    "L2err_1 = zeros(Float64,length(ns_1),length(epss))\n",
    "l2err_1 = zeros(Float64,length(ns_1),length(epss))\n",
    "fsize_1 = zeros(Float64,length(ns_1),length(epss))\n",
    "minN_1 = zeros(Int,length(epss))\n",
    "P = ExtensionFramePlatform(platform(Fourier(1, -T,T)),Interval(-t,t))\n",
    "for (i,n) in enumerate(ns_1) \n",
    "    for (j,epsilon) in enumerate(epss)        \n",
    "        F, A, b, c, S, _  = approximate(f_1,P,n;solverstyle=AZStyle(),L=sampling_factor*n,threshold=epsilon)\n",
    "        csize_1[i,j] = norm(c)\n",
    "        L2err_1[i,j] = L2error(f_1, F; atol=1e-5,rtol=1e-5)\n",
    "        b = S*f_1\n",
    "        l2err_1[i,j] = norm(b-A*c)\n",
    "        fsize_1[i,j] = sqrt(step(supergrid(supergrid(FrameFun.grid(element(S,1))))).*norm(b)^2)\n",
    "        (minN_1[j] == 0) && (l2err_1[i,j] < epsilon*fsize_1[i,j]) && (minN_1[j] = n)\n",
    "    end\n",
    "end"
   ]
  },
  {
   "cell_type": "code",
   "execution_count": null,
   "metadata": {
    "scrolled": true
   },
   "outputs": [],
   "source": [
    "@pgf p_1 = GroupPlot(\n",
    "    {width=width,height=height,ymode=\"log\", \n",
    "    cycle_list_name=\"mark list*\",\n",
    "    xlabel=L\"$N$\", legend_pos=\"south west\",legend_cell_align=\"left\",\n",
    "        ymin=1e-13,ymax=1e12,group_style={group_size={\"2 by 2\"},\n",
    "        x_descriptions_at=\"edge bottom\",\n",
    "        y_descriptions_at=\"edge left\", \n",
    "        horizontal_sep=\"1em\",vertical_sep=\"1em\",\n",
    "        \n",
    "    }},\n",
    "    )\n",
    "@pgf for (j,epsilon) in enumerate(epss)\n",
    "    push!(p_1,{})\n",
    "    push!(p_1,PlotInc({},Table(ns_1,L2err_1[:,j])))\n",
    "    push!(p_1,PlotInc({},Table(ns_1,l2err_1[:,j])))\n",
    "    push!(p_1,PlotInc({},Table(ns_1,csize_1[:,j])))\n",
    "    push!(p_1,PlotInc({style=\"black\",mark=\"none\"},Table(ns_1,fsize_1[:,j]))) \n",
    "    push!(p_1,PlotInc({style=\"black,dashed\",mark=\"none\"},Table(ns_1, epsilon*ones(size(ns_1)))))\n",
    "end\n",
    "p_1"
   ]
  },
  {
   "cell_type": "code",
   "execution_count": null,
   "metadata": {},
   "outputs": [],
   "source": [
    "# DocumentPGFPlots.savefigs(joinpath(apath,relpath,\"groupplotexpcos8pix\"),p_1)"
   ]
  },
  {
   "cell_type": "code",
   "execution_count": null,
   "metadata": {},
   "outputs": [],
   "source": []
  },
  {
   "cell_type": "markdown",
   "metadata": {},
   "source": [
    "# Noise"
   ]
  },
  {
   "cell_type": "markdown",
   "metadata": {},
   "source": [
    "Noise is not seen"
   ]
  },
  {
   "cell_type": "code",
   "execution_count": null,
   "metadata": {},
   "outputs": [],
   "source": [
    "P = ExtensionFramePlatform(FourierPlatform(),0.0..0.5)"
   ]
  },
  {
   "cell_type": "code",
   "execution_count": null,
   "metadata": {},
   "outputs": [],
   "source": [
    "f = x->exp(x) + 1e-3*cos(2pi*1000x)\n",
    "F = Fun(f,P;threshold=1e-10/100,δ=1e-10,criterion=FNAStyle(),verbose=false)"
   ]
  },
  {
   "cell_type": "code",
   "execution_count": null,
   "metadata": {},
   "outputs": [],
   "source": [
    "δs = 10. .^ LinRange(-10,-3,20)\n",
    "ϵs = 10. .^ LinRange(-10,-3,20)\n",
    "ls = zeros(length(δs),length(ϵs))\n",
    "ns = zeros(length(δs),length(ϵs))\n",
    "es = zeros(length(δs),length(ϵs))\n",
    "for (i,δ) in enumerate(δs)\n",
    "    for (j,ϵ) in enumerate(ϵs)\n",
    "        f = x->exp(x) + ϵ*cos(2pi*1000x)\n",
    "        F = Fun(f,P;threshold=δ/100,δ=δ,criterion=FNAStyle(),verbose=false)\n",
    "        N = length(coefficients(F))\n",
    "        _,A,b,c,S,L = approximate(f,P,N;threshold=δ/100,δ=δ)\n",
    "        ls[i,j] = length(F)\n",
    "        ns[i,j] = norm(coefficients(F))\n",
    "        es[i,j] = norm(A*c-b)\n",
    "        @show δ, ϵ, length(F), norm(coefficients(F)), norm(A*c-b)\n",
    "    end\n",
    "end   "
   ]
  },
  {
   "cell_type": "code",
   "execution_count": null,
   "metadata": {},
   "outputs": [],
   "source": [
    "opts = @pgf {\n",
    "        view = (0, 90),\n",
    "        xlabel=L\"\\log_{10}(\\delta)\",\n",
    "        ylabel=L\"\\log_{10}(\\sigma)\",\n",
    "        colorbar,\n",
    "        \"colormap/jet\",\n",
    "        width = \".25\\\\textwidth\",\n",
    "        scale_only_axis=true,\n",
    "    }\n",
    "p3opts = @pgf {surf,shader = \"flat\"}"
   ]
  },
  {
   "cell_type": "code",
   "execution_count": null,
   "metadata": {},
   "outputs": [],
   "source": [
    "P = @pgf GroupPlot({opts...,group_style={\n",
    "        x_descriptions_at=\"edge bottom\",\n",
    "        y_descriptions_at=\"edge left\",\n",
    "        horizontal_sep=\"5em\",group_size=\"2 by 1\",}},\n",
    "    {},Plot3(p3opts,Table(log10.(ϵs), log10.(δs),log10.(es))),\n",
    "    {},Plot3(p3opts,Table(log10.(ϵs), log10.(δs),log10.(ls))),\n",
    ")"
   ]
  },
  {
   "cell_type": "code",
   "execution_count": null,
   "metadata": {},
   "outputs": [],
   "source": [
    "# DocumentPGFPlots.savefigs(joinpath(apath,\"img\",\"svsd\"), P)"
   ]
  },
  {
   "cell_type": "markdown",
   "metadata": {},
   "source": [
    "## \\epsilon vs \\delta"
   ]
  },
  {
   "cell_type": "code",
   "execution_count": null,
   "metadata": {},
   "outputs": [],
   "source": [
    "f = x-> 1e6exp(cos(8pi*x))\n",
    "P = ExtensionFramePlatform(FourierPlatform(),0.0..0.5)"
   ]
  },
  {
   "cell_type": "code",
   "execution_count": null,
   "metadata": {},
   "outputs": [],
   "source": [
    "δs = 10. .^ LinRange(-10,-3,20)\n",
    "ϵs = 10. .^ LinRange(-10,-3,20)\n",
    "ls = zeros(length(δs),length(ϵs))\n",
    "ns = zeros(length(δs),length(ϵs))\n",
    "for (i,δ) in enumerate(δs)\n",
    "    for (j,ϵ) in enumerate(ϵs)\n",
    "        F = Fun(f,P;threshold=ϵ,δ=δ,criterion=FNAStyle(),verbose=false)\n",
    "        @show δ, ϵ, length(F), norm(coefficients(F))\n",
    "        ls[i,j] = length(F)\n",
    "        ns[i,j] = norm(coefficients(F))\n",
    "    end\n",
    "end            "
   ]
  },
  {
   "cell_type": "code",
   "execution_count": null,
   "metadata": {},
   "outputs": [],
   "source": [
    "f2 = x-> exp(cos(8pi*x))\n",
    "P2 = ExtensionFramePlatform(FourierPlatform(),0.0..0.5)"
   ]
  },
  {
   "cell_type": "code",
   "execution_count": null,
   "metadata": {},
   "outputs": [],
   "source": [
    "δs2 = 10. .^ LinRange(-10,-3,20)\n",
    "ϵs2 = 10. .^ LinRange(-10,-3,20)\n",
    "ls2 = zeros(length(δs2),length(ϵs2))\n",
    "ns2 = zeros(length(δs2),length(ϵs2))\n",
    "for (i,δ) in enumerate(δs2)\n",
    "    for (j,ϵ) in enumerate(ϵs2)\n",
    "        F = Fun(f2,P2;threshold=ϵ,δ=δ,criterion=FNAStyle(),verbose=false)\n",
    "        @show δ, ϵ, length(F), norm(coefficients(F))\n",
    "        ls2[i,j] = length(F)\n",
    "        ns2[i,j] = norm(coefficients(F))\n",
    "    end\n",
    "end"
   ]
  },
  {
   "cell_type": "code",
   "execution_count": null,
   "metadata": {},
   "outputs": [],
   "source": [
    "opts = @pgf {\n",
    "        view = (0, 90),\n",
    "        xlabel=L\"\\log_{10}(\\delta)\",\n",
    "        ylabel=L\"\\log_{10}(\\epsilon)\",\n",
    "        colorbar,\n",
    "        \"colormap/jet\",\n",
    "        width = \".25\\\\textwidth\",\n",
    "        scale_only_axis=true,\n",
    "    }\n",
    "p3opts = @pgf {surf,shader = \"flat\"}"
   ]
  },
  {
   "cell_type": "code",
   "execution_count": null,
   "metadata": {},
   "outputs": [],
   "source": [
    "P = @pgf GroupPlot({opts...,group_style={\n",
    "        x_descriptions_at=\"edge bottom\",\n",
    "        y_descriptions_at=\"edge left\",\n",
    "        horizontal_sep=\"5em\",group_size=\"4 by 1\",}},\n",
    "    {title=L\"$f_1, N_{\\mathrm{opt}}$\"},Plot3(p3opts,Table(log10.(ϵs), log10.(δs),log10.(ls2))),\n",
    "    {title=L\"$f_1, \\|\\mathbf x\\|$\"},Plot3(p3opts,Table(log10.(ϵs), log10.(δs),log10.(ns2))),\n",
    "    {title=L\"$f_2, N_{\\mathrm{opt}}$\"},Plot3(p3opts,Table(log10.(ϵs), log10.(δs),log10.(ls))),\n",
    "    {title=L\"$f_2, \\|\\mathbf x\\|$\"},Plot3(p3opts,Table(log10.(ϵs), log10.(δs),log10.(ns))),\n",
    ")"
   ]
  },
  {
   "cell_type": "code",
   "execution_count": null,
   "metadata": {},
   "outputs": [],
   "source": [
    "# DocumentPGFPlots.savefigs(joinpath(apath,\"img\",\"evsd\"), P)"
   ]
  },
  {
   "cell_type": "code",
   "execution_count": null,
   "metadata": {},
   "outputs": [],
   "source": []
  }
 ],
 "metadata": {
  "@webio": {
   "lastCommId": null,
   "lastKernelId": null
  },
  "anaconda-cloud": {},
  "kernelspec": {
   "display_name": "Julia 1.2.0",
   "language": "julia",
   "name": "julia-1.2"
  },
  "language_info": {
   "file_extension": ".jl",
   "mimetype": "application/julia",
   "name": "julia",
   "version": "1.2.0"
  }
 },
 "nbformat": 4,
 "nbformat_minor": 1
}
